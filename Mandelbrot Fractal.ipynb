{
 "cells": [
  {
   "cell_type": "code",
   "execution_count": 7,
   "metadata": {},
   "outputs": [],
   "source": [
    "import numpy as np\n",
    "import matplotlib.pyplot as plt"
   ]
  },
  {
   "cell_type": "code",
   "execution_count": 8,
   "metadata": {},
   "outputs": [],
   "source": [
    "#f(Z) = Z^2 + C\n",
    "\n",
    "#First CASE : example C = 0\n",
    "#start with z =0\n",
    "#f(0) = 0^2 + 1 = 1\n",
    "#f(1) = 1^2 + 1 = 2\n",
    "#f(2) = 2^2 + 1 = 5\n",
    "#f(5) = 5^2 + 1 = 26\n",
    "# f =>> infinity \n",
    "\n",
    "#SECOND CASE : example C = -1\n",
    "#Start at z =0\n",
    "#f(0) = 0^2 - 1 = -1\n",
    "#f(1) = -1^2 - 1 = 0\n",
    "#f(0) = 2^2 + 1 = -1\n",
    "#f(-1) = 5^2 + 1 = 0\n",
    "# f keeps fliping and doesn't go to infinity  therefore it's part of the Mandelbrot set\n",
    "\n",
    "# IDEA : Plot every complex number that satisfies the conditions of the Mandelbrot set on a complex plane\n",
    "# Give places that go to infinity a color and others another color and you end up with the mandelbrotset fractal ! \n",
    "\n",
    "def mandelbrot(n_rows, n_columns, iterations):\n",
    "    x_cor = np.linspace(-2,1,n_rows)\n",
    "    y_cor = np.linspace(-2,1,n_columns)\n",
    "    x_len = len(x_cor)\n",
    "    y_len = len(y_cor)\n",
    "    output = np.zeros((x_len,y_len))\n",
    "    for i in range(x_len):\n",
    "        for j in range(y_len):\n",
    "            c = complex(x_cor[i],y_cor[j])\n",
    "            z = complex(0, 0)\n",
    "            count = 0\n",
    "            for k in range(iterations):\n",
    "                z = (z * z) + c\n",
    "                count = count + 1\n",
    "                if (abs(z) > 4):\n",
    "                    break\n",
    "            output[i,j] = count\n",
    "            #print((i/x_len)*100,\"% completed\")\n",
    "    #print(output)\n",
    "    print(\"Generating Fractal..\")\n",
    "    plt.imshow(output.T, cmap = \"hot\")\n",
    "    plt.axis(\"off\")\n",
    "    plt.show()\n"
   ]
  },
  {
   "cell_type": "code",
   "execution_count": 10,
   "metadata": {
    "scrolled": true
   },
   "outputs": [
    {
     "name": "stdout",
     "output_type": "stream",
     "text": [
      "Generating Fractal..\n"
     ]
    },
    {
     "data": {
      "image/png": "[encoded data removed]",
      "text/plain": [
       "<Figure size 432x288 with 1 Axes>"
      ]
     },
     "metadata": {
      "needs_background": "light"
     },
     "output_type": "display_data"
    }
   ],
   "source": [
    "mandelbrot(1500,1500,200)"
   ]
  },
  {
   "cell_type": "code",
   "execution_count": null,
   "metadata": {},
   "outputs": [],
   "source": []
  }
 ],
 "metadata": {
  "kernelspec": {
   "display_name": "Python 3.7 (tensorflowGPU)",
   "language": "python",
   "name": "tensorflowgpu"
  },
  "language_info": {
   "codemirror_mode": {
    "name": "ipython",
    "version": 3
   },
   "file_extension": ".py",
   "mimetype": "text/x-python",
   "name": "python",
   "nbconvert_exporter": "python",
   "pygments_lexer": "ipython3",
   "version": "3.7.9"
  }
 },
 "nbformat": 4,
 "nbformat_minor": 4
}
