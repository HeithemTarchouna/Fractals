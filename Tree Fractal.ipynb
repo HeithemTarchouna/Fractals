{
 "cells": [
  {
   "cell_type": "code",
   "execution_count": null,
   "metadata": {},
   "outputs": [],
   "source": [
    "from turtle import *\n",
    "def tree(length,angle):\n",
    "    if(length<9):\n",
    "        return\n",
    "    else:\n",
    "        pencolor('green')\n",
    "        forward(length)\n",
    "        right(angle)\n",
    "        tree(0.8*length,angle)\n",
    "        left(2*angle)\n",
    "        tree(0.8*length,angle)\n",
    "        right(angle)\n",
    "        backward(length)\n",
    "        pencolor('brown')\n",
    "def draw_fractal():\n",
    "    speed(300)\n",
    "    up()\n",
    "    left(90)\n",
    "    backward(200.0)\n",
    "    down()\n",
    "    tree(100,30)\n",
    "    mainloop()\n",
    "draw_fractal()\n"
   ]
  },
  {
   "cell_type": "code",
   "execution_count": null,
   "metadata": {},
   "outputs": [],
   "source": []
  }
 ],
 "metadata": {
  "kernelspec": {
   "display_name": "Python 3.7 (tensorflowGPU)",
   "language": "python",
   "name": "tensorflowgpu"
  },
  "language_info": {
   "codemirror_mode": {
    "name": "ipython",
    "version": 3
   },
   "file_extension": ".py",
   "mimetype": "text/x-python",
   "name": "python",
   "nbconvert_exporter": "python",
   "pygments_lexer": "ipython3",
   "version": "3.7.9"
  }
 },
 "nbformat": 4,
 "nbformat_minor": 4
}
