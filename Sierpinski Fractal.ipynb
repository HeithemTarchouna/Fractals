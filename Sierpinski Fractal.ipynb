{
 "cells": [
  {
   "cell_type": "code",
   "execution_count": null,
   "metadata": {},
   "outputs": [
    {
     "name": "stdout",
     "output_type": "stream",
     "text": [
      "select one of these: \n",
      "  sierpinski-sieve \n",
      "  sierpinski-arrowhead\n"
     ]
    }
   ],
   "source": [
    "from turtle import *\n",
    "\n",
    "def sierpinski(iteration, axiom, rules, length, angle):\n",
    "    old = axiom\n",
    "    var1 = rules[0]\n",
    "    replace1 = rules[1]\n",
    "    var2 = rules[2]\n",
    "    replace2 = rules[3]\n",
    "    for i in range(iteration):\n",
    "        new = ''\n",
    "        for char in old:\n",
    "            if(char==var1):\n",
    "                new += replace1\n",
    "            elif(char==var2):\n",
    "                new += replace2\n",
    "            else:\n",
    "                new += char\n",
    "        old = new\n",
    "    for char in old:\n",
    "        if (char == \"F\"):\n",
    "            forward(length)\n",
    "        elif (char == '+'):\n",
    "            right(angle)\n",
    "        elif (char == '-'):\n",
    "            left(angle)\n",
    "def draw_fractal(fractal_name):\n",
    "    speed(0)\n",
    "    if(fractal_name==\"sierpinski-arrowhead\"):\n",
    "        up()\n",
    "        backward(200.0/2.0)\n",
    "        left(180)\n",
    "        down()\n",
    "        bgcolor(\"black\")\n",
    "        pencolor(\"blue\")\n",
    "        sierpinski(7, \"YF\", [\"X\", \"YF+XF+Y\", \"Y\", \"XF-YF-X\"], 2, 60)\n",
    "        mainloop()\n",
    "    elif(fractal_name==\"sierpinski-sieve\"):\n",
    "        up()\n",
    "        backward(200.0 / 2.0)\n",
    "        down()\n",
    "        bgcolor(\"black\")\n",
    "        pencolor(\"light green\")\n",
    "        sierpinski(6, \"FXF--FF--FF\", [\"F\", \"FF\", \"X\", \"--FXF++FXF++FXF--\"], 2, 60)\n",
    "        mainloop()\n",
    "\n",
    "print(\"select one of these:\",\"\\n\",\" sierpinski-sieve\",\"\\n\",\" sierpinski-arrowhead\")\n",
    "\n",
    "fract = input(\"enter the fractal name: \")\n",
    "draw_fractal(fract)"
   ]
  },
  {
   "cell_type": "code",
   "execution_count": null,
   "metadata": {},
   "outputs": [],
   "source": []
  }
 ],
 "metadata": {
  "kernelspec": {
   "display_name": "Python 3.7 (tensorflowGPU)",
   "language": "python",
   "name": "tensorflowgpu"
  },
  "language_info": {
   "codemirror_mode": {
    "name": "ipython",
    "version": 3
   },
   "file_extension": ".py",
   "mimetype": "text/x-python",
   "name": "python",
   "nbconvert_exporter": "python",
   "pygments_lexer": "ipython3",
   "version": "3.7.9"
  }
 },
 "nbformat": 4,
 "nbformat_minor": 4
}
